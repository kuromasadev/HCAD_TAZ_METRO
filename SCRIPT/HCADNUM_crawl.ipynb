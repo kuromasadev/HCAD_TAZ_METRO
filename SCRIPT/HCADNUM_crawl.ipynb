{
 "cells": [
  {
   "cell_type": "code",
   "execution_count": null,
   "id": "bac0c68a",
   "metadata": {},
   "outputs": [],
   "source": [
    "import pandas as pd\n",
    "import time\n",
    "import random\n",
    "import os\n",
    "from selenium import webdriver\n",
    "from selenium.webdriver.common.by import By\n",
    "from selenium.webdriver.chrome.options import Options"
   ]
  },
  {
   "cell_type": "code",
   "execution_count": null,
   "id": "79408769",
   "metadata": {},
   "outputs": [],
   "source": [
    "# Input\n",
    "INPUT_FILE = 'OUTPUT/hcad_parcels.csv'\n",
    "OUTPUT_FILE = 'OUTPUT/hcad_parcel_details.csv'"
   ]
  },
  {
   "cell_type": "code",
   "execution_count": null,
   "id": "93961ae4",
   "metadata": {},
   "outputs": [],
   "source": [
    "def get_parcel_data(hcad_num):\n",
    "    driver.get(\"https://hcad.org/property-search/property-search\")\n",
    "    time.sleep(random.uniform(3, 5))\n",
    "\n",
    "    try:\n",
    "        search_box = driver.find_element(By.ID, \"search-text\")\n",
    "        search_box.clear()\n",
    "        search_box.send_keys(hcad_num)\n",
    "        search_box.submit()\n",
    "        time.sleep(random.uniform(4, 6))\n",
    "\n",
    "        return {\n",
    "            \"HCAD_NUM\": hcad_num,\n",
    "            \"Owner\": driver.find_element(By.CSS_SELECTOR, \".owner-name\").text,\n",
    "            \"Address\": driver.find_element(By.CSS_SELECTOR, \".address\").text,\n",
    "            \"Account Type\": driver.find_element(By.CSS_SELECTOR, \".account-type\").text,\n",
    "            \"Total Appraised Value\": driver.find_element(By.XPATH, \"//div[contains(text(),'Total Appraised Value')]/following-sibling::div\").text\n",
    "        }\n",
    "    except Exception as e:\n",
    "        print(f\"[ERROR] {hcad_num}: {e}\")\n",
    "        return {\"HCAD_NUM\": hcad_num, \"Owner\": None, \"Address\": None, \"Account Type\": None, \"Total Appraised Value\": None}\n",
    "\n"
   ]
  },
  {
   "cell_type": "code",
   "execution_count": null,
   "id": "6c6cbf4e",
   "metadata": {},
   "outputs": [],
   "source": [
    "# Load HCAD_NUMs\n",
    "df = pd.read_csv(INPUT_FILE)\n",
    "hcad_nums = df['HCAD_NUM'].astype(str).tolist()\n",
    "\n",
    "# Resume from previous progress\n",
    "if os.path.exists(OUTPUT_FILE):\n",
    "    scraped = pd.read_csv(OUTPUT_FILE)\n",
    "    done = set(scraped['HCAD_NUM'].astype(str))\n",
    "else:\n",
    "    scraped = pd.DataFrame()\n",
    "    done = set()\n",
    "\n",
    "remaining = [num for num in hcad_nums if num not in done]\n",
    "\n",
    "# Set up Selenium\n",
    "chrome_options = Options()\n",
    "chrome_options.add_argument(\"--headless\")\n",
    "driver = webdriver.Chrome(options=chrome_options)"
   ]
  },
  {
   "cell_type": "code",
   "execution_count": null,
   "id": "5dd37c56",
   "metadata": {},
   "outputs": [],
   "source": [
    "# Scrape in batches\n",
    "batch = []\n",
    "for idx, num in enumerate(remaining, 1):\n",
    "    record = get_parcel_data(num)\n",
    "    batch.append(record)\n",
    "\n",
    "    if idx % 50 == 0 or idx == len(remaining):\n",
    "        pd.DataFrame(batch).to_csv(OUTPUT_FILE, mode='a', header=not os.path.exists(OUTPUT_FILE), index=False)\n",
    "        print(f\"[SAVED] {idx} records processed.\")\n",
    "        batch.clear()\n",
    "        time.sleep(random.uniform(5, 10))\n",
    "\n",
    "driver.quit()"
   ]
  }
 ],
 "metadata": {
  "language_info": {
   "name": "python"
  }
 },
 "nbformat": 4,
 "nbformat_minor": 5
}

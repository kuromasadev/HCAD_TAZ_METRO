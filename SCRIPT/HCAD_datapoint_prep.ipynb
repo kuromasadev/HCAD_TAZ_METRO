{
 "cells": [
  {
   "cell_type": "code",
   "execution_count": 1,
   "id": "a5274622",
   "metadata": {},
   "outputs": [],
   "source": [
    "import pandas as pd\n",
    "import geopandas as gpd"
   ]
  },
  {
   "cell_type": "code",
   "execution_count": 2,
   "id": "60b46d88",
   "metadata": {},
   "outputs": [],
   "source": [
    "metro_boundary = gpd.read_file(\"../REF/Metro_MTA_Tax_Area.geojson\")\n",
    "metro_RRC = gpd.read_file(\"../REF/METRO_RailRoadCrossings.geojson\")\n",
    "metro_BB = gpd.read_file(\"../REF/METRO_TxDOT_Bridges.geojson\")\n",
    "\n",
    "metro_TC = gpd.read_file(\"../REF/Metro_Transit_Centers.geojson\")\n",
    "metro_PnR = gpd.read_file(\"../REF/Metro_Park_and_Rides.geojson\")\n",
    "metro_LRT = gpd.read_file(\"../REF/Metro_LRT_Stations.geojson\")"
   ]
  },
  {
   "cell_type": "markdown",
   "id": "2aa6f523",
   "metadata": {},
   "source": [
    "# Cleaning up Datasets"
   ]
  },
  {
   "cell_type": "code",
   "execution_count": 3,
   "id": "ec59adbb",
   "metadata": {},
   "outputs": [],
   "source": [
    "pnr_col2k = [\"OBJECTID\",\n",
    "             \"ADDRESS\",\n",
    "             \"ROUTES_SER\",\n",
    "             \"geometry\"\n",
    "            ]\n",
    "metro_PnR = metro_PnR[pnr_col2k]\n",
    "metro_TC = metro_TC[pnr_col2k]"
   ]
  },
  {
   "cell_type": "code",
   "execution_count": 4,
   "id": "7da0dcff",
   "metadata": {},
   "outputs": [],
   "source": [
    "lrt_col2k = [\"OBJECTID\",\n",
    "             \"Stat_Name\",\n",
    "             \"Stat_Loc\",\n",
    "             \"LineColor\",\n",
    "             \"geometry\"\n",
    "            ]\n",
    "metro_LRT = metro_LRT[lrt_col2k]"
   ]
  },
  {
   "cell_type": "code",
   "execution_count": 5,
   "id": "5719aada",
   "metadata": {},
   "outputs": [],
   "source": [
    "bb_col2k = [\"BRDG_ID\",\n",
    "            \"FEAT_INTSECTD\",\n",
    "            \"FACLTY_CARRD_BY_STRUC\",\n",
    "            \"YR_BLT\",\n",
    "            \"ADT\",\n",
    "            \"ADT_YR\",\n",
    "            \"ADT_TRK\",\n",
    "            \"LT_SDWALK_WIDTH\",\n",
    "            \"RT_SDWALK_WIDTH\",\n",
    "            \"FUT_ADT\",\n",
    "            \"FUT_ADT_YR\",\n",
    "            \"BRDG_DESC\",\n",
    "            \"geometry\"\n",
    "            ]\n",
    "metro_BB = metro_BB[bb_col2k]"
   ]
  },
  {
   "cell_type": "code",
   "execution_count": 6,
   "id": "70ebf5a6",
   "metadata": {},
   "outputs": [],
   "source": [
    "rrc_col2k = [\"CrossingID\",\n",
    "             \"Street\",\n",
    "             \"TtstnNam\",\n",
    "             \"TypeXing\",\n",
    "             \"Railroad\",\n",
    "             \"geometry\"\n",
    "             ]\n",
    "metro_RRC = metro_RRC[rrc_col2k]"
   ]
  },
  {
   "cell_type": "code",
   "execution_count": null,
   "id": "7e0a9eeb",
   "metadata": {},
   "outputs": [],
   "source": [
    "metro_RRC"
   ]
  },
  {
   "cell_type": "code",
   "execution_count": null,
   "id": "f8ec219a",
   "metadata": {},
   "outputs": [],
   "source": []
  }
 ],
 "metadata": {
  "kernelspec": {
   "display_name": "Python 3",
   "language": "python",
   "name": "python3"
  },
  "language_info": {
   "codemirror_mode": {
    "name": "ipython",
    "version": 3
   },
   "file_extension": ".py",
   "mimetype": "text/x-python",
   "name": "python",
   "nbconvert_exporter": "python",
   "pygments_lexer": "ipython3",
   "version": "3.11.9"
  }
 },
 "nbformat": 4,
 "nbformat_minor": 5
}

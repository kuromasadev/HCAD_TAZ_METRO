{
 "cells": [
  {
   "cell_type": "code",
   "execution_count": 14,
   "id": "22439853",
   "metadata": {},
   "outputs": [],
   "source": [
    "import pandas as pd\n",
    "import os\n",
    "from io import StringIO\n",
    "import sqlite3\n",
    "import csv\n",
    "import geopandas as gpd\n",
    "import re\n",
    "from tabulate import tabulate\n"
   ]
  },
  {
   "cell_type": "markdown",
   "id": "a31e9287",
   "metadata": {},
   "source": [
    "# Step 2A : Match Combined Random Samples"
   ]
  },
  {
   "cell_type": "markdown",
   "id": "2581b916",
   "metadata": {},
   "source": [
    "HCAD Account Number with Polygons\n",
    "\n",
    "Download Real Property from HCAD : http://hcad.org/pdata/pdata-property-downloads.html"
   ]
  },
  {
   "cell_type": "markdown",
   "id": "739d5fab",
   "metadata": {},
   "source": [
    "Real Property Data from 2025 is ~890MB, data split out available in chunked txt files."
   ]
  },
  {
   "cell_type": "markdown",
   "id": "ed870ecb",
   "metadata": {},
   "source": [
    "##### *To recreate original file*"
   ]
  },
  {
   "cell_type": "markdown",
   "id": "f372d09d",
   "metadata": {},
   "source": [
    "\n",
    "``` python\n",
    "def load_real_property_chunks_safe(folder_path, delimiter='\\t', log_bad_lines=True):\n",
    "    files = sorted([\n",
    "        f for f in os.listdir(folder_path)\n",
    "        if f.startswith('real_acct_2025') and f.endswith('.txt')\n",
    "    ])\n",
    "    \n",
    "    data_rows = []\n",
    "    header = None\n",
    "    bad_lines = []\n",
    "\n",
    "    for file in files:\n",
    "        file_path = os.path.join(folder_path, file)\n",
    "        with open(file_path, 'r', encoding='utf-8', errors='replace') as f:\n",
    "            lines = f.readlines()\n",
    "            if header is None:\n",
    "                header = lines[0].strip().split(delimiter)\n",
    "                expected_cols = len(header)\n",
    "            for i, line in enumerate(lines[1:], start=2):  # Start from line 2 in human terms\n",
    "                parts = line.strip().split(delimiter)\n",
    "                if len(parts) == expected_cols:\n",
    "                    data_rows.append(parts)\n",
    "                else:\n",
    "                    if log_bad_lines:\n",
    "                        bad_lines.append((file, i, len(parts), line.strip()))\n",
    "    \n",
    "    # Create DataFrame\n",
    "    HCAD_RealProperty = pd.DataFrame(data_rows, columns=header)\n",
    "\n",
    "    # Optionally print or log bad lines\n",
    "    if log_bad_lines and bad_lines:\n",
    "        print(f\"\\nSkipped {len(bad_lines)} malformed rows:\")\n",
    "        for file, lineno, cols, preview in bad_lines[:10]:  # show only first 10\n",
    "            print(f\"{file}, line {lineno}: expected {expected_cols}, found {cols} columns — {preview[:100]}...\")\n",
    "\n",
    "    return HCAD_RealProperty\n",
    "```\n",
    "\n",
    "HCAD_RealProperty = load_real_property_chunks_safe(\"../2025_RPD\")"
   ]
  },
  {
   "cell_type": "markdown",
   "id": "c5ae3c2f",
   "metadata": {},
   "source": [
    "## Real Property Database"
   ]
  },
  {
   "cell_type": "markdown",
   "id": "ca57b83a",
   "metadata": {},
   "source": [
    "#### Primary Table"
   ]
  },
  {
   "cell_type": "code",
   "execution_count": 2,
   "id": "58b60295",
   "metadata": {},
   "outputs": [],
   "source": [
    "# Define Real Property Data column names\n",
    "columns = [\n",
    "    \"acct\", \"yr\", \"mailto\", \"mail_addr_1\", \"mail_addr_2\", \"mail_city\", \"mail_state\", \"mail_zip\", \"mail_country\",\n",
    "    \"undeliverable\", \"str_pfx\", \"str_num\", \"str_num_sfx\", \"str\", \"str_sfx\", \"str_sfx_dir\", \"str_unit\",\n",
    "    \"site_addr_1\", \"site_addr_2\", \"site_addr_3\", \"state_class\", \"school_dist\", \"map_facet\", \"key_map\",\n",
    "    \"Neighborhood_Code\", \"Neighborhood_Grp\", \"Market_Area_1\", \"Market_Area_1_Dscr\", \"Market_Area_2\",\n",
    "    \"Market_Area_2_Dscr\", \"econ_area\", \"econ_bld_class\", \"center_code\", \"yr_impr\", \"yr_annexed\", \"splt_dt\",\n",
    "    \"dsc_cd\", \"nxt_bld\", \"bld_ar\", \"land_ar\", \"acreage\", \"Cap_acct\", \"shared_cad\", \"land_val\", \"bld_val\",\n",
    "    \"x_features_val\", \"ag_val\", \"assessed_val\", \"tot_appr_val\", \"tot_mkt_val\", \"prior_land_val\",\n",
    "    \"prior_bld_val\", \"prior_x_features_val\", \"prior_ag_val\", \"prior_tot_appr_val\", \"prior_tot_mkt_val\",\n",
    "    \"new_construction_val\", \"tot_rcn_val\", \"value_status\", \"noticed\", \"notice_dt\", \"protested\",\n",
    "    \"certified_date\", \"rev_dt\", \"rev_by\", \"new_own_dt\", \"lgl_1\", \"lgl_2\", \"lgl_3\", \"lgl_4\", \"jurs\"\n",
    "]"
   ]
  },
  {
   "cell_type": "code",
   "execution_count": 3,
   "id": "04c7cd87",
   "metadata": {},
   "outputs": [],
   "source": [
    "def load_realacct_to_sqlite(txt_file, db_file, table_name, delimiter='\\t'):\n",
    "    conn = sqlite3.connect(db_file)\n",
    "    cur = conn.cursor()\n",
    "\n",
    "    # Drop and create table with appropriate schema\n",
    "    cur.execute(f'DROP TABLE IF EXISTS {table_name}')\n",
    "    col_defs = ', '.join([f'\"{col}\" TEXT' for col in columns])\n",
    "    cur.execute(f'CREATE TABLE {table_name} ({col_defs})')\n",
    "\n",
    "    # Insert valid rows in chunks\n",
    "    placeholders = ','.join(['?'] * len(columns))\n",
    "    with open(txt_file, 'r', encoding='utf-8', errors='replace') as f:\n",
    "        reader = csv.reader(f, delimiter=delimiter)\n",
    "        header = next(reader)  # Skip header in file\n",
    "\n",
    "        batch = []\n",
    "        for row in reader:\n",
    "            if len(row) == len(columns):\n",
    "                # Clean acct: strip and zero-pad to 13 digits\n",
    "                acct_index = columns.index(\"acct\")\n",
    "                row[acct_index] = row[acct_index].strip().zfill(13)\n",
    "\n",
    "                batch.append(row)\n",
    "                if len(batch) >= 10000:\n",
    "                    cur.executemany(f'INSERT INTO {table_name} VALUES ({placeholders})', batch)\n",
    "                    batch = []\n",
    "        if batch:\n",
    "            cur.executemany(f'INSERT INTO {table_name} VALUES ({placeholders})', batch)\n",
    "\n",
    "    conn.commit()\n",
    "    conn.close()\n",
    "    print(f\"Loaded data into table '{table_name}' in '{db_file}'.\")"
   ]
  },
  {
   "cell_type": "code",
   "execution_count": 4,
   "id": "e2cf79e3",
   "metadata": {},
   "outputs": [
    {
     "name": "stdout",
     "output_type": "stream",
     "text": [
      "Loaded data into table 'HCAD_RealProperty' in 'real_property.db'.\n"
     ]
    }
   ],
   "source": [
    "# Load Data into Sqlite\n",
    "load_realacct_to_sqlite('../2025_RPD/real_acct.txt', 'real_property.db', 'HCAD_RealProperty')"
   ]
  },
  {
   "cell_type": "code",
   "execution_count": 5,
   "id": "eeac00c1",
   "metadata": {},
   "outputs": [],
   "source": [
    "# SQL Connect\n",
    "conn = sqlite3.connect('real_property.db')\n",
    "cur = conn.cursor()"
   ]
  },
  {
   "cell_type": "code",
   "execution_count": 6,
   "id": "bc0ff73d",
   "metadata": {},
   "outputs": [],
   "source": [
    "cur.execute(\"\"\"\n",
    "CREATE VIEW IF NOT EXISTS HCAD_RealProperty_View AS\n",
    "SELECT\n",
    "    acct,\n",
    "    mail_city,\n",
    "    state_class,\n",
    "    school_dist,\n",
    "    Neighborhood_Code,\n",
    "    Neighborhood_Grp,\n",
    "    Market_Area_1,\n",
    "    Market_Area_1_Dscr,\n",
    "    Market_Area_2,\n",
    "    Market_Area_2_Dscr,\n",
    "    econ_area,\n",
    "    econ_bld_class,\n",
    "    center_code,\n",
    "    yr_impr,\n",
    "    yr_annexed,\n",
    "    splt_dt,\n",
    "    dsc_cd,\n",
    "    acreage,\n",
    "    land_val,\n",
    "    bld_val,\n",
    "    x_features_val,\n",
    "    ag_val,\n",
    "    assessed_val,\n",
    "    tot_appr_val,\n",
    "    tot_mkt_val\n",
    "FROM HCAD_RealProperty;\n",
    "\"\"\")\n",
    "\n",
    "# Commit\n",
    "conn.commit()"
   ]
  },
  {
   "cell_type": "code",
   "execution_count": null,
   "id": "1aa03051",
   "metadata": {},
   "outputs": [],
   "source": [
    "HCAD_RealProperty = pd.read_sql_query(\"SELECT * FROM HCAD_RealProperty_View\", conn)"
   ]
  },
  {
   "cell_type": "code",
   "execution_count": null,
   "id": "ca39058e",
   "metadata": {},
   "outputs": [],
   "source": [
    "conn.close()"
   ]
  },
  {
   "cell_type": "markdown",
   "id": "790cc2cb",
   "metadata": {},
   "source": [
    "#### Secondary Tables"
   ]
  },
  {
   "cell_type": "code",
   "execution_count": 7,
   "id": "a1199f96",
   "metadata": {},
   "outputs": [],
   "source": [
    "# Define which columns to keep from land.txt\n",
    "land_columns = [\"acct\", \"num\", \"use_cd\", \"use_dscr\", \"inf_cd\", \"inf_dscr\", \"inf_adj\", \"tp\", \"uts\", \"sz_fact\",\n",
    "                \"inf_fact\", \"cond\", \"ovr_dscr\", \"tot_adj\", \"unit_prc\", \"adj_unit_prc\", \"val\", \"ovr_val\"]"
   ]
  },
  {
   "cell_type": "code",
   "execution_count": 8,
   "id": "819bb2ce",
   "metadata": {},
   "outputs": [],
   "source": [
    "# Columns to carry over (including primary key for joining)\n",
    "land_keep_columns = [\"acct\", \"num\", \"use_cd\", \"use_dscr\", \"inf_cd\", \"inf_dscr\", \"ovr_dscr\"]"
   ]
  },
  {
   "cell_type": "code",
   "execution_count": 9,
   "id": "f03312be",
   "metadata": {},
   "outputs": [],
   "source": [
    "def load_related_land_table(txt_file, db_file, table_name, delimiter='\\t'):\n",
    "    conn = sqlite3.connect(db_file)\n",
    "    cur = conn.cursor()\n",
    "\n",
    "    # Drop and create the related land table with only desired fields\n",
    "    col_defs = ', '.join([f'\"{col}\" TEXT' for col in land_keep_columns])\n",
    "    cur.execute(f'DROP TABLE IF EXISTS {table_name}')\n",
    "    cur.execute(f'CREATE TABLE {table_name} ({col_defs})')\n",
    "\n",
    "    # Index mapping based on land_columns (all original columns)\n",
    "    with open(txt_file, 'r', encoding='utf-8', errors='replace') as f:\n",
    "        reader = csv.reader(f, delimiter=delimiter)\n",
    "        header = next(reader)  # Get the actual file header\n",
    "        index_map = {col: header.index(col) for col in land_keep_columns}\n",
    "\n",
    "        batch = []\n",
    "        for row in reader:\n",
    "            if len(row) == len(land_columns):  # Expecting full set of original columns\n",
    "                filtered_row = [row[index_map[col]] for col in land_keep_columns]\n",
    "\n",
    "                # Clean acct: strip and zero-pad to 13 digits\n",
    "                acct_index = land_keep_columns.index(\"acct\")\n",
    "                row[acct_index] = row[acct_index].strip().zfill(13)\n",
    "                batch.append(filtered_row)\n",
    "\n",
    "                if len(batch) >= 10000:\n",
    "                    placeholders = ','.join(['?'] * len(land_keep_columns))\n",
    "                    cur.executemany(f'INSERT INTO {table_name} VALUES ({placeholders})', batch)\n",
    "                    batch = []\n",
    "\n",
    "        if batch:\n",
    "            placeholders = ','.join(['?'] * len(land_keep_columns))\n",
    "            cur.executemany(f'INSERT INTO {table_name} VALUES ({placeholders})', batch)\n",
    "\n",
    "    conn.commit()\n",
    "    conn.close()\n",
    "\n",
    "    print(f\"Loaded data into table '{table_name}' in '{db_file}'.\")"
   ]
  },
  {
   "cell_type": "code",
   "execution_count": 10,
   "id": "7f872e5c",
   "metadata": {},
   "outputs": [
    {
     "name": "stdout",
     "output_type": "stream",
     "text": [
      "Loaded data into table 'land_related' in 'real_property.db'.\n"
     ]
    }
   ],
   "source": [
    "load_related_land_table(\n",
    "    txt_file=\"../2025_RPD/land.txt\",\n",
    "    db_file=\"real_property.db\",\n",
    "    table_name=\"land_related\"\n",
    ")"
   ]
  },
  {
   "cell_type": "code",
   "execution_count": 11,
   "id": "4e7e6e42",
   "metadata": {},
   "outputs": [],
   "source": [
    "cur.execute(\"\"\"\n",
    "CREATE VIEW IF NOT EXISTS HCAD_CombinedView AS\n",
    "SELECT\n",
    "    r.acct,\n",
    "    r.mail_city,\n",
    "    r.state_class,\n",
    "    r.school_dist,\n",
    "    r.Neighborhood_Code,\n",
    "    r.Neighborhood_Grp,\n",
    "    r.Market_Area_1,\n",
    "    r.Market_Area_1_Dscr,\n",
    "    r.Market_Area_2,\n",
    "    r.Market_Area_2_Dscr,\n",
    "    r.econ_area,\n",
    "    r.econ_bld_class,\n",
    "    r.center_code,\n",
    "    r.yr_impr,\n",
    "    r.yr_annexed,\n",
    "    r.splt_dt,\n",
    "    r.dsc_cd,\n",
    "    r.acreage,\n",
    "    r.land_val,\n",
    "    r.bld_val,\n",
    "    r.x_features_val,\n",
    "    r.ag_val,\n",
    "    r.assessed_val,\n",
    "    r.tot_appr_val,\n",
    "    r.tot_mkt_val,\n",
    "    l.num,\n",
    "    l.use_cd,\n",
    "    l.use_dscr,\n",
    "    l.inf_cd,\n",
    "    l.inf_dscr,\n",
    "    l.ovr_dscr\n",
    "FROM HCAD_RealProperty AS r\n",
    "LEFT JOIN land_related AS l \n",
    "            ON r.acct = l.acct\n",
    "\"\"\")\n",
    "conn.commit()\n"
   ]
  },
  {
   "cell_type": "code",
   "execution_count": 15,
   "id": "a1a0c73d",
   "metadata": {},
   "outputs": [],
   "source": [
    "# Preview QAQC\n",
    "def preview_column_stats(db_file, table_name):\n",
    "    conn = sqlite3.connect(db_file)\n",
    "    cur = conn.cursor()\n",
    "\n",
    "    # Get column names\n",
    "    cur.execute(f'PRAGMA table_info({table_name})')\n",
    "    columns = [row[1] for row in cur.fetchall()]\n",
    "\n",
    "    summary = []\n",
    "\n",
    "    for col in columns:\n",
    "        cur.execute(f\"\"\"\n",
    "            SELECT \n",
    "                COUNT(*) AS total_rows,\n",
    "                COUNT({col}) AS non_null,\n",
    "                COUNT(DISTINCT {col}) AS distinct_vals\n",
    "            FROM {table_name}\n",
    "        \"\"\")\n",
    "        result = cur.fetchone()\n",
    "        summary.append({\n",
    "            \"column\": col,\n",
    "            \"total_rows\": result[0],\n",
    "            \"non_null_values\": result[1],\n",
    "            \"missing_values\": result[0] - result[1],\n",
    "            \"distinct_values\": result[2]\n",
    "        })\n",
    "\n",
    "    conn.close()\n",
    "    df_summary = pd.DataFrame(summary)\n",
    "    try:\n",
    "        from tabulate import tabulate\n",
    "        print(tabulate(df_summary, headers='keys', tablefmt='pretty', showindex=False))\n",
    "    except ImportError:\n",
    "        print(df_summary)\n",
    "    return df_summary"
   ]
  },
  {
   "cell_type": "code",
   "execution_count": 16,
   "id": "1d808676",
   "metadata": {},
   "outputs": [
    {
     "name": "stdout",
     "output_type": "stream",
     "text": [
      "+--------------------+------------+-----------------+----------------+-----------------+\n",
      "|       column       | total_rows | non_null_values | missing_values | distinct_values |\n",
      "+--------------------+------------+-----------------+----------------+-----------------+\n",
      "|        acct        |  2484951   |     2484951     |       0        |     1595816     |\n",
      "|     mail_city      |  2484951   |     2484951     |       0        |      4500       |\n",
      "|    state_class     |  2484951   |     2484951     |       0        |       49        |\n",
      "|    school_dist     |  2484951   |     2484951     |       0        |       27        |\n",
      "| Neighborhood_Code  |  2484951   |     2484951     |       0        |      8568       |\n",
      "|  Neighborhood_Grp  |  2484951   |     2484951     |       0        |       979       |\n",
      "|   Market_Area_1    |  2484951   |     2484951     |       0        |       400       |\n",
      "| Market_Area_1_Dscr |  2484951   |     2484951     |       0        |       229       |\n",
      "|   Market_Area_2    |  2484951   |     2484951     |       0        |       88        |\n",
      "| Market_Area_2_Dscr |  2484951   |     2484951     |       0        |       88        |\n",
      "|     econ_area      |  2484951   |     2484951     |       0        |       49        |\n",
      "|   econ_bld_class   |  2484951   |     2484951     |       0        |       11        |\n",
      "|    center_code     |  2484951   |     2484951     |       0        |       83        |\n",
      "|      yr_impr       |  2484951   |     2484951     |       0        |       174       |\n",
      "|     yr_annexed     |  2484951   |     2484951     |       0        |        2        |\n",
      "|      splt_dt       |  2484951   |     2484951     |       0        |        1        |\n",
      "|       dsc_cd       |  2484951   |     2484951     |       0        |        4        |\n",
      "|      acreage       |  2484951   |     2484951     |       0        |      51713      |\n",
      "|      land_val      |  2484951   |     2484951     |       0        |     229134      |\n",
      "|      bld_val       |  2484951   |     2484951     |       0        |     479012      |\n",
      "|   x_features_val   |  2484951   |     2484951     |       0        |      78539      |\n",
      "|       ag_val       |  2484951   |     2484951     |       0        |      1970       |\n",
      "|    assessed_val    |  2484951   |     2484951     |       0        |     592217      |\n",
      "|    tot_appr_val    |  2484951   |     2484951     |       0        |     577324      |\n",
      "|    tot_mkt_val     |  2484951   |     2484951     |       0        |     594522      |\n",
      "|        num         |  2484951   |     2457525     |     27426      |        9        |\n",
      "|       use_cd       |  2484951   |     2457525     |     27426      |       52        |\n",
      "|      use_dscr      |  2484951   |     2457525     |     27426      |       42        |\n",
      "|       inf_cd       |  2484951   |     2457525     |     27426      |       240       |\n",
      "|      inf_dscr      |  2484951   |     2457525     |     27426      |       19        |\n",
      "|      ovr_dscr      |  2484951   |     2457525     |     27426      |       77        |\n",
      "+--------------------+------------+-----------------+----------------+-----------------+\n"
     ]
    },
    {
     "data": {
      "application/vnd.microsoft.datawrangler.viewer.v0+json": {
       "columns": [
        {
         "name": "index",
         "rawType": "int64",
         "type": "integer"
        },
        {
         "name": "column",
         "rawType": "object",
         "type": "string"
        },
        {
         "name": "total_rows",
         "rawType": "int64",
         "type": "integer"
        },
        {
         "name": "non_null_values",
         "rawType": "int64",
         "type": "integer"
        },
        {
         "name": "missing_values",
         "rawType": "int64",
         "type": "integer"
        },
        {
         "name": "distinct_values",
         "rawType": "int64",
         "type": "integer"
        }
       ],
       "conversionMethod": "pd.DataFrame",
       "ref": "161b49ed-d352-4328-a02d-df8c94494f2d",
       "rows": [
        [
         "0",
         "acct",
         "2484951",
         "2484951",
         "0",
         "1595816"
        ],
        [
         "1",
         "mail_city",
         "2484951",
         "2484951",
         "0",
         "4500"
        ],
        [
         "2",
         "state_class",
         "2484951",
         "2484951",
         "0",
         "49"
        ],
        [
         "3",
         "school_dist",
         "2484951",
         "2484951",
         "0",
         "27"
        ],
        [
         "4",
         "Neighborhood_Code",
         "2484951",
         "2484951",
         "0",
         "8568"
        ],
        [
         "5",
         "Neighborhood_Grp",
         "2484951",
         "2484951",
         "0",
         "979"
        ],
        [
         "6",
         "Market_Area_1",
         "2484951",
         "2484951",
         "0",
         "400"
        ],
        [
         "7",
         "Market_Area_1_Dscr",
         "2484951",
         "2484951",
         "0",
         "229"
        ],
        [
         "8",
         "Market_Area_2",
         "2484951",
         "2484951",
         "0",
         "88"
        ],
        [
         "9",
         "Market_Area_2_Dscr",
         "2484951",
         "2484951",
         "0",
         "88"
        ],
        [
         "10",
         "econ_area",
         "2484951",
         "2484951",
         "0",
         "49"
        ],
        [
         "11",
         "econ_bld_class",
         "2484951",
         "2484951",
         "0",
         "11"
        ],
        [
         "12",
         "center_code",
         "2484951",
         "2484951",
         "0",
         "83"
        ],
        [
         "13",
         "yr_impr",
         "2484951",
         "2484951",
         "0",
         "174"
        ],
        [
         "14",
         "yr_annexed",
         "2484951",
         "2484951",
         "0",
         "2"
        ],
        [
         "15",
         "splt_dt",
         "2484951",
         "2484951",
         "0",
         "1"
        ],
        [
         "16",
         "dsc_cd",
         "2484951",
         "2484951",
         "0",
         "4"
        ],
        [
         "17",
         "acreage",
         "2484951",
         "2484951",
         "0",
         "51713"
        ],
        [
         "18",
         "land_val",
         "2484951",
         "2484951",
         "0",
         "229134"
        ],
        [
         "19",
         "bld_val",
         "2484951",
         "2484951",
         "0",
         "479012"
        ],
        [
         "20",
         "x_features_val",
         "2484951",
         "2484951",
         "0",
         "78539"
        ],
        [
         "21",
         "ag_val",
         "2484951",
         "2484951",
         "0",
         "1970"
        ],
        [
         "22",
         "assessed_val",
         "2484951",
         "2484951",
         "0",
         "592217"
        ],
        [
         "23",
         "tot_appr_val",
         "2484951",
         "2484951",
         "0",
         "577324"
        ],
        [
         "24",
         "tot_mkt_val",
         "2484951",
         "2484951",
         "0",
         "594522"
        ],
        [
         "25",
         "num",
         "2484951",
         "2457525",
         "27426",
         "9"
        ],
        [
         "26",
         "use_cd",
         "2484951",
         "2457525",
         "27426",
         "52"
        ],
        [
         "27",
         "use_dscr",
         "2484951",
         "2457525",
         "27426",
         "42"
        ],
        [
         "28",
         "inf_cd",
         "2484951",
         "2457525",
         "27426",
         "240"
        ],
        [
         "29",
         "inf_dscr",
         "2484951",
         "2457525",
         "27426",
         "19"
        ],
        [
         "30",
         "ovr_dscr",
         "2484951",
         "2457525",
         "27426",
         "77"
        ]
       ],
       "shape": {
        "columns": 5,
        "rows": 31
       }
      },
      "text/html": [
       "<div>\n",
       "<style scoped>\n",
       "    .dataframe tbody tr th:only-of-type {\n",
       "        vertical-align: middle;\n",
       "    }\n",
       "\n",
       "    .dataframe tbody tr th {\n",
       "        vertical-align: top;\n",
       "    }\n",
       "\n",
       "    .dataframe thead th {\n",
       "        text-align: right;\n",
       "    }\n",
       "</style>\n",
       "<table border=\"1\" class=\"dataframe\">\n",
       "  <thead>\n",
       "    <tr style=\"text-align: right;\">\n",
       "      <th></th>\n",
       "      <th>column</th>\n",
       "      <th>total_rows</th>\n",
       "      <th>non_null_values</th>\n",
       "      <th>missing_values</th>\n",
       "      <th>distinct_values</th>\n",
       "    </tr>\n",
       "  </thead>\n",
       "  <tbody>\n",
       "    <tr>\n",
       "      <th>0</th>\n",
       "      <td>acct</td>\n",
       "      <td>2484951</td>\n",
       "      <td>2484951</td>\n",
       "      <td>0</td>\n",
       "      <td>1595816</td>\n",
       "    </tr>\n",
       "    <tr>\n",
       "      <th>1</th>\n",
       "      <td>mail_city</td>\n",
       "      <td>2484951</td>\n",
       "      <td>2484951</td>\n",
       "      <td>0</td>\n",
       "      <td>4500</td>\n",
       "    </tr>\n",
       "    <tr>\n",
       "      <th>2</th>\n",
       "      <td>state_class</td>\n",
       "      <td>2484951</td>\n",
       "      <td>2484951</td>\n",
       "      <td>0</td>\n",
       "      <td>49</td>\n",
       "    </tr>\n",
       "    <tr>\n",
       "      <th>3</th>\n",
       "      <td>school_dist</td>\n",
       "      <td>2484951</td>\n",
       "      <td>2484951</td>\n",
       "      <td>0</td>\n",
       "      <td>27</td>\n",
       "    </tr>\n",
       "    <tr>\n",
       "      <th>4</th>\n",
       "      <td>Neighborhood_Code</td>\n",
       "      <td>2484951</td>\n",
       "      <td>2484951</td>\n",
       "      <td>0</td>\n",
       "      <td>8568</td>\n",
       "    </tr>\n",
       "    <tr>\n",
       "      <th>5</th>\n",
       "      <td>Neighborhood_Grp</td>\n",
       "      <td>2484951</td>\n",
       "      <td>2484951</td>\n",
       "      <td>0</td>\n",
       "      <td>979</td>\n",
       "    </tr>\n",
       "    <tr>\n",
       "      <th>6</th>\n",
       "      <td>Market_Area_1</td>\n",
       "      <td>2484951</td>\n",
       "      <td>2484951</td>\n",
       "      <td>0</td>\n",
       "      <td>400</td>\n",
       "    </tr>\n",
       "    <tr>\n",
       "      <th>7</th>\n",
       "      <td>Market_Area_1_Dscr</td>\n",
       "      <td>2484951</td>\n",
       "      <td>2484951</td>\n",
       "      <td>0</td>\n",
       "      <td>229</td>\n",
       "    </tr>\n",
       "    <tr>\n",
       "      <th>8</th>\n",
       "      <td>Market_Area_2</td>\n",
       "      <td>2484951</td>\n",
       "      <td>2484951</td>\n",
       "      <td>0</td>\n",
       "      <td>88</td>\n",
       "    </tr>\n",
       "    <tr>\n",
       "      <th>9</th>\n",
       "      <td>Market_Area_2_Dscr</td>\n",
       "      <td>2484951</td>\n",
       "      <td>2484951</td>\n",
       "      <td>0</td>\n",
       "      <td>88</td>\n",
       "    </tr>\n",
       "    <tr>\n",
       "      <th>10</th>\n",
       "      <td>econ_area</td>\n",
       "      <td>2484951</td>\n",
       "      <td>2484951</td>\n",
       "      <td>0</td>\n",
       "      <td>49</td>\n",
       "    </tr>\n",
       "    <tr>\n",
       "      <th>11</th>\n",
       "      <td>econ_bld_class</td>\n",
       "      <td>2484951</td>\n",
       "      <td>2484951</td>\n",
       "      <td>0</td>\n",
       "      <td>11</td>\n",
       "    </tr>\n",
       "    <tr>\n",
       "      <th>12</th>\n",
       "      <td>center_code</td>\n",
       "      <td>2484951</td>\n",
       "      <td>2484951</td>\n",
       "      <td>0</td>\n",
       "      <td>83</td>\n",
       "    </tr>\n",
       "    <tr>\n",
       "      <th>13</th>\n",
       "      <td>yr_impr</td>\n",
       "      <td>2484951</td>\n",
       "      <td>2484951</td>\n",
       "      <td>0</td>\n",
       "      <td>174</td>\n",
       "    </tr>\n",
       "    <tr>\n",
       "      <th>14</th>\n",
       "      <td>yr_annexed</td>\n",
       "      <td>2484951</td>\n",
       "      <td>2484951</td>\n",
       "      <td>0</td>\n",
       "      <td>2</td>\n",
       "    </tr>\n",
       "    <tr>\n",
       "      <th>15</th>\n",
       "      <td>splt_dt</td>\n",
       "      <td>2484951</td>\n",
       "      <td>2484951</td>\n",
       "      <td>0</td>\n",
       "      <td>1</td>\n",
       "    </tr>\n",
       "    <tr>\n",
       "      <th>16</th>\n",
       "      <td>dsc_cd</td>\n",
       "      <td>2484951</td>\n",
       "      <td>2484951</td>\n",
       "      <td>0</td>\n",
       "      <td>4</td>\n",
       "    </tr>\n",
       "    <tr>\n",
       "      <th>17</th>\n",
       "      <td>acreage</td>\n",
       "      <td>2484951</td>\n",
       "      <td>2484951</td>\n",
       "      <td>0</td>\n",
       "      <td>51713</td>\n",
       "    </tr>\n",
       "    <tr>\n",
       "      <th>18</th>\n",
       "      <td>land_val</td>\n",
       "      <td>2484951</td>\n",
       "      <td>2484951</td>\n",
       "      <td>0</td>\n",
       "      <td>229134</td>\n",
       "    </tr>\n",
       "    <tr>\n",
       "      <th>19</th>\n",
       "      <td>bld_val</td>\n",
       "      <td>2484951</td>\n",
       "      <td>2484951</td>\n",
       "      <td>0</td>\n",
       "      <td>479012</td>\n",
       "    </tr>\n",
       "    <tr>\n",
       "      <th>20</th>\n",
       "      <td>x_features_val</td>\n",
       "      <td>2484951</td>\n",
       "      <td>2484951</td>\n",
       "      <td>0</td>\n",
       "      <td>78539</td>\n",
       "    </tr>\n",
       "    <tr>\n",
       "      <th>21</th>\n",
       "      <td>ag_val</td>\n",
       "      <td>2484951</td>\n",
       "      <td>2484951</td>\n",
       "      <td>0</td>\n",
       "      <td>1970</td>\n",
       "    </tr>\n",
       "    <tr>\n",
       "      <th>22</th>\n",
       "      <td>assessed_val</td>\n",
       "      <td>2484951</td>\n",
       "      <td>2484951</td>\n",
       "      <td>0</td>\n",
       "      <td>592217</td>\n",
       "    </tr>\n",
       "    <tr>\n",
       "      <th>23</th>\n",
       "      <td>tot_appr_val</td>\n",
       "      <td>2484951</td>\n",
       "      <td>2484951</td>\n",
       "      <td>0</td>\n",
       "      <td>577324</td>\n",
       "    </tr>\n",
       "    <tr>\n",
       "      <th>24</th>\n",
       "      <td>tot_mkt_val</td>\n",
       "      <td>2484951</td>\n",
       "      <td>2484951</td>\n",
       "      <td>0</td>\n",
       "      <td>594522</td>\n",
       "    </tr>\n",
       "    <tr>\n",
       "      <th>25</th>\n",
       "      <td>num</td>\n",
       "      <td>2484951</td>\n",
       "      <td>2457525</td>\n",
       "      <td>27426</td>\n",
       "      <td>9</td>\n",
       "    </tr>\n",
       "    <tr>\n",
       "      <th>26</th>\n",
       "      <td>use_cd</td>\n",
       "      <td>2484951</td>\n",
       "      <td>2457525</td>\n",
       "      <td>27426</td>\n",
       "      <td>52</td>\n",
       "    </tr>\n",
       "    <tr>\n",
       "      <th>27</th>\n",
       "      <td>use_dscr</td>\n",
       "      <td>2484951</td>\n",
       "      <td>2457525</td>\n",
       "      <td>27426</td>\n",
       "      <td>42</td>\n",
       "    </tr>\n",
       "    <tr>\n",
       "      <th>28</th>\n",
       "      <td>inf_cd</td>\n",
       "      <td>2484951</td>\n",
       "      <td>2457525</td>\n",
       "      <td>27426</td>\n",
       "      <td>240</td>\n",
       "    </tr>\n",
       "    <tr>\n",
       "      <th>29</th>\n",
       "      <td>inf_dscr</td>\n",
       "      <td>2484951</td>\n",
       "      <td>2457525</td>\n",
       "      <td>27426</td>\n",
       "      <td>19</td>\n",
       "    </tr>\n",
       "    <tr>\n",
       "      <th>30</th>\n",
       "      <td>ovr_dscr</td>\n",
       "      <td>2484951</td>\n",
       "      <td>2457525</td>\n",
       "      <td>27426</td>\n",
       "      <td>77</td>\n",
       "    </tr>\n",
       "  </tbody>\n",
       "</table>\n",
       "</div>"
      ],
      "text/plain": [
       "                column  total_rows  non_null_values  missing_values  \\\n",
       "0                 acct     2484951          2484951               0   \n",
       "1            mail_city     2484951          2484951               0   \n",
       "2          state_class     2484951          2484951               0   \n",
       "3          school_dist     2484951          2484951               0   \n",
       "4    Neighborhood_Code     2484951          2484951               0   \n",
       "5     Neighborhood_Grp     2484951          2484951               0   \n",
       "6        Market_Area_1     2484951          2484951               0   \n",
       "7   Market_Area_1_Dscr     2484951          2484951               0   \n",
       "8        Market_Area_2     2484951          2484951               0   \n",
       "9   Market_Area_2_Dscr     2484951          2484951               0   \n",
       "10           econ_area     2484951          2484951               0   \n",
       "11      econ_bld_class     2484951          2484951               0   \n",
       "12         center_code     2484951          2484951               0   \n",
       "13             yr_impr     2484951          2484951               0   \n",
       "14          yr_annexed     2484951          2484951               0   \n",
       "15             splt_dt     2484951          2484951               0   \n",
       "16              dsc_cd     2484951          2484951               0   \n",
       "17             acreage     2484951          2484951               0   \n",
       "18            land_val     2484951          2484951               0   \n",
       "19             bld_val     2484951          2484951               0   \n",
       "20      x_features_val     2484951          2484951               0   \n",
       "21              ag_val     2484951          2484951               0   \n",
       "22        assessed_val     2484951          2484951               0   \n",
       "23        tot_appr_val     2484951          2484951               0   \n",
       "24         tot_mkt_val     2484951          2484951               0   \n",
       "25                 num     2484951          2457525           27426   \n",
       "26              use_cd     2484951          2457525           27426   \n",
       "27            use_dscr     2484951          2457525           27426   \n",
       "28              inf_cd     2484951          2457525           27426   \n",
       "29            inf_dscr     2484951          2457525           27426   \n",
       "30            ovr_dscr     2484951          2457525           27426   \n",
       "\n",
       "    distinct_values  \n",
       "0           1595816  \n",
       "1              4500  \n",
       "2                49  \n",
       "3                27  \n",
       "4              8568  \n",
       "5               979  \n",
       "6               400  \n",
       "7               229  \n",
       "8                88  \n",
       "9                88  \n",
       "10               49  \n",
       "11               11  \n",
       "12               83  \n",
       "13              174  \n",
       "14                2  \n",
       "15                1  \n",
       "16                4  \n",
       "17            51713  \n",
       "18           229134  \n",
       "19           479012  \n",
       "20            78539  \n",
       "21             1970  \n",
       "22           592217  \n",
       "23           577324  \n",
       "24           594522  \n",
       "25                9  \n",
       "26               52  \n",
       "27               42  \n",
       "28              240  \n",
       "29               19  \n",
       "30               77  "
      ]
     },
     "execution_count": 16,
     "metadata": {},
     "output_type": "execute_result"
    }
   ],
   "source": [
    "preview_column_stats(\"real_property.db\", \"HCAD_CombinedView\")"
   ]
  },
  {
   "cell_type": "code",
   "execution_count": 17,
   "id": "0a077efb",
   "metadata": {},
   "outputs": [],
   "source": [
    "HCAD_RealProperty = pd.read_sql_query(\"SELECT * FROM HCAD_CombinedView\", conn)"
   ]
  },
  {
   "cell_type": "code",
   "execution_count": 19,
   "id": "6339dc0d",
   "metadata": {},
   "outputs": [],
   "source": [
    "conn.close()"
   ]
  },
  {
   "cell_type": "code",
   "execution_count": null,
   "id": "bdacc575",
   "metadata": {},
   "outputs": [],
   "source": [
    "HCAD_RealProperty"
   ]
  },
  {
   "cell_type": "markdown",
   "id": "a78271e8",
   "metadata": {},
   "source": [
    "## Analysis"
   ]
  },
  {
   "cell_type": "code",
   "execution_count": 20,
   "id": "8fa31dcd",
   "metadata": {},
   "outputs": [],
   "source": [
    "gdf_allsamples = gpd.read_file(\"OUTPUT\\combined_random_samples.geojson\")"
   ]
  },
  {
   "cell_type": "code",
   "execution_count": null,
   "id": "a0ce6bef",
   "metadata": {},
   "outputs": [],
   "source": [
    "gdf_allsamples"
   ]
  },
  {
   "cell_type": "markdown",
   "id": "387d0eb1",
   "metadata": {},
   "source": [
    "##### check step"
   ]
  },
  {
   "cell_type": "code",
   "execution_count": 21,
   "id": "468ef4b4",
   "metadata": {},
   "outputs": [
    {
     "name": "stdout",
     "output_type": "stream",
     "text": [
      "HCAD_NUM samples from gdf:\n",
      "['1274410000036' '1152790430005' '1219740030067' '1416470010001'\n",
      " '0432120010343']\n"
     ]
    }
   ],
   "source": [
    "print(\"HCAD_NUM samples from gdf:\")\n",
    "print(gdf_allsamples[\"HCAD_NUM\"].dropna().astype(str).unique()[:5])"
   ]
  },
  {
   "cell_type": "code",
   "execution_count": 22,
   "id": "9eb45253",
   "metadata": {},
   "outputs": [
    {
     "name": "stdout",
     "output_type": "stream",
     "text": [
      "\n",
      "acct samples from HCAD_RealProperty:\n",
      "['0010010000013' '0010020000001' '0010020000003' '0010020000004'\n",
      " '0010020000013']\n"
     ]
    }
   ],
   "source": [
    "print(\"\\nacct samples from HCAD_RealProperty:\")\n",
    "print(HCAD_RealProperty[\"acct\"].dropna().astype(str).unique()[:5])"
   ]
  },
  {
   "cell_type": "code",
   "execution_count": 23,
   "id": "ba9aa170",
   "metadata": {},
   "outputs": [
    {
     "name": "stdout",
     "output_type": "stream",
     "text": [
      "Matching account count: 6072 of 6076 in gdf\n"
     ]
    }
   ],
   "source": [
    "gdf_accts = set(gdf_allsamples[\"HCAD_NUM\"].dropna().astype(str))\n",
    "db_accts = set(HCAD_RealProperty[\"acct\"].dropna().astype(str))\n",
    "\n",
    "common = gdf_accts & db_accts\n",
    "print(f\"Matching account count: {len(common)} of {len(gdf_accts)} in gdf\")"
   ]
  },
  {
   "cell_type": "markdown",
   "id": "d26a16ff",
   "metadata": {},
   "source": [
    "##### Steps to Match (now archived)\n",
    "This has now been moved up to the sql inmport stage, but kept to maintain the \"clean\" tag"
   ]
  },
  {
   "cell_type": "code",
   "execution_count": 24,
   "id": "f24655fb",
   "metadata": {},
   "outputs": [],
   "source": [
    "gdf_allsamples[\"HCAD_NUM_clean\"] = gdf_allsamples[\"HCAD_NUM\"] #.astype(str).str.strip().str.zfill(13)\n",
    "HCAD_RealProperty[\"acct_clean\"] = HCAD_RealProperty[\"acct\"] #.astype(str).str.strip().str.zfill(13)"
   ]
  },
  {
   "cell_type": "code",
   "execution_count": 25,
   "id": "39236f7e",
   "metadata": {},
   "outputs": [
    {
     "name": "stdout",
     "output_type": "stream",
     "text": [
      "Matches after cleaning: 6072\n"
     ]
    }
   ],
   "source": [
    "common_clean = set(gdf_allsamples[\"HCAD_NUM_clean\"]) & set(HCAD_RealProperty[\"acct_clean\"])\n",
    "print(f\"Matches after cleaning: {len(common_clean)}\")\n"
   ]
  },
  {
   "cell_type": "markdown",
   "id": "ebae69f7",
   "metadata": {},
   "source": [
    "##### actual join\n",
    "joins RealProperty Data View from db into the selected samples"
   ]
  },
  {
   "cell_type": "code",
   "execution_count": 26,
   "id": "6749effc",
   "metadata": {},
   "outputs": [],
   "source": [
    "gdf_joined = gdf_allsamples.merge(HCAD_RealProperty, \n",
    "                                  left_on=\"HCAD_NUM_clean\", \n",
    "                                  right_on=\"acct_clean\", \n",
    "                                  how=\"left\")"
   ]
  },
  {
   "cell_type": "code",
   "execution_count": 27,
   "id": "582a7144",
   "metadata": {},
   "outputs": [],
   "source": [
    "columns_to_drop = [\"parcel_type\", \n",
    "                   \"yr_annexed\", \n",
    "                   \"splt_dt\", \n",
    "                   \"dsc_cd\",\n",
    "                   \"timestamp\",\n",
    "                   \"sampling_batch_size\",\n",
    "                   \"total_properties_sampled\",\n",
    "                   \"sampling_attempts\",\n",
    "                   \"samplesetID\"\n",
    "                   ]\n",
    "gdf_joined = gdf_joined.drop(columns=columns_to_drop, errors=\"ignore\")"
   ]
  },
  {
   "cell_type": "code",
   "execution_count": 28,
   "id": "ec45b6e5",
   "metadata": {},
   "outputs": [],
   "source": [
    "front_cols = [\n",
    "    'parcel_index', \n",
    "    'unique_id', # unique record ID\n",
    "    'sample_id', # sample set identifier\n",
    "    'HCAD_NUM', \n",
    "    'HCAD_NUM_clean', \n",
    "    'acct_clean',\n",
    "    'city', \n",
    "    'mail_city', \n",
    "    'state_class_y', \n",
    "    'state_class_x',\n",
    "    'use_dscr',\n",
    "    'appr_val', \n",
    "    'tot_appr_val', \n",
    "    'mkt_val', \n",
    "    'tot_mkt_val'\n",
    "]"
   ]
  },
  {
   "cell_type": "code",
   "execution_count": 29,
   "id": "00b96a79",
   "metadata": {},
   "outputs": [],
   "source": [
    "remaining_cols = [col for col in gdf_joined.columns if col not in front_cols]"
   ]
  },
  {
   "cell_type": "code",
   "execution_count": 30,
   "id": "9129bf4b",
   "metadata": {},
   "outputs": [],
   "source": [
    "gdf_joined = gdf_joined[front_cols + remaining_cols]"
   ]
  },
  {
   "cell_type": "markdown",
   "id": "dd0bce16",
   "metadata": {},
   "source": [
    "#### Data Type Conversion"
   ]
  },
  {
   "cell_type": "code",
   "execution_count": 31,
   "id": "08c9c667",
   "metadata": {},
   "outputs": [],
   "source": [
    "# Columns to convert\n",
    "currency_cols = ['appr_val', 'tot_appr_val', 'mkt_val', 'tot_mkt_val']\n",
    "conversion_report = {}"
   ]
  },
  {
   "cell_type": "code",
   "execution_count": 32,
   "id": "9b61e2fc",
   "metadata": {},
   "outputs": [],
   "source": [
    "# Column Conversion\n",
    "for col in currency_cols:\n",
    "    if col in gdf_joined.columns:\n",
    "        original_nulls = gdf_joined[col].isna().sum()\n",
    "        original_type = gdf_joined[col].dtype\n",
    "\n",
    "        # Clean and convert\n",
    "        gdf_joined[col] = (\n",
    "            gdf_joined[col]\n",
    "            .replace('', '0')             # Replace empty strings with '0'\n",
    "            .replace(' ', '0')            # Replace space-only strings too\n",
    "            .fillna(0)                    # Fill any remaining NaNs\n",
    "            .astype(float)                # Convert to float\n",
    "            .round(2)\n",
    "        )\n",
    "\n",
    "        # Confirmation\n",
    "        conversion_report[col] = {\n",
    "            'original_dtype': str(original_type),\n",
    "            'nulls_filled': original_nulls,\n",
    "            'total_records': len(gdf_joined)\n",
    "        }\n"
   ]
  },
  {
   "cell_type": "code",
   "execution_count": 33,
   "id": "b72774a2",
   "metadata": {},
   "outputs": [
    {
     "name": "stdout",
     "output_type": "stream",
     "text": [
      "Currency Conversion Summary:\n",
      " - appr_val: 19190 rows processed | 816 nulls filled | original type was float64\n",
      " - tot_appr_val: 19190 rows processed | 8 nulls filled | original type was object\n",
      " - mkt_val: 19190 rows processed | 816 nulls filled | original type was float64\n",
      " - tot_mkt_val: 19190 rows processed | 8 nulls filled | original type was object\n"
     ]
    }
   ],
   "source": [
    "# Print conversion report\n",
    "print(\"Currency Conversion Summary:\")\n",
    "for col, stats in conversion_report.items():\n",
    "    print(f\" - {col}: {stats['total_records']} rows processed | {stats['nulls_filled']} nulls filled | original type was {stats['original_dtype']}\")"
   ]
  },
  {
   "cell_type": "markdown",
   "id": "66bf18c9",
   "metadata": {},
   "source": [
    "#### Integrity Report"
   ]
  },
  {
   "cell_type": "code",
   "execution_count": 34,
   "id": "83f82e39",
   "metadata": {},
   "outputs": [],
   "source": [
    "mismatch_report = {}"
   ]
  },
  {
   "cell_type": "code",
   "execution_count": 35,
   "id": "38bd9480",
   "metadata": {},
   "outputs": [],
   "source": [
    "def check_and_cleanup(col1, col2, drop_col_if_match, rename_if_match=None):\n",
    "    global gdf_joined\n",
    "    total = len(gdf_joined)\n",
    "\n",
    "    if col1 not in gdf_joined.columns or col2 not in gdf_joined.columns:\n",
    "        print(f\"Warning: One or both columns missing: {col1}, {col2}\")\n",
    "        return\n",
    "\n",
    "    if (gdf_joined[col1] == gdf_joined[col2]).all():\n",
    "        if drop_col_if_match and drop_col_if_match in gdf_joined.columns:\n",
    "            gdf_joined.drop(columns=[drop_col_if_match], inplace=True)\n",
    "        if rename_if_match:\n",
    "            gdf_joined.rename(columns={col2: rename_if_match}, inplace=True)\n",
    "    else:\n",
    "        mismatch_count = (gdf_joined[col1] != gdf_joined[col2]).sum()\n",
    "        mismatch_report[f\"{col1} vs {col2}\"] = {\n",
    "            \"count\": mismatch_count,\n",
    "            \"percent\": round((mismatch_count / total) * 100, 2)\n",
    "        }"
   ]
  },
  {
   "cell_type": "code",
   "execution_count": null,
   "id": "a2469c4d",
   "metadata": {},
   "outputs": [],
   "source": [
    "# HCAD_NUM comparisons\n",
    "check_and_cleanup(\"HCAD_NUM\", \"HCAD_NUM_clean\", drop_col_if_match=\"HCAD_NUM_clean\")\n",
    "check_and_cleanup(\"HCAD_NUM\", \"acct_clean\", drop_col_if_match=\"acct_clean\")\n",
    "\n",
    "# State class comparison\n",
    "check_and_cleanup(\"state_class_y\", \"state_class_x\", drop_col_if_match=\"state_class_x\", rename_if_match=\"state_class\")\n",
    "\n",
    "# Appraised value\n",
    "check_and_cleanup(\"appr_val\", \"tot_appr_val\", drop_col_if_match=\"appr_val\")\n",
    "\n",
    "# Market value\n",
    "check_and_cleanup(\"mkt_val\", \"tot_mkt_val\", drop_col_if_match=\"mkt_val\")"
   ]
  },
  {
   "cell_type": "code",
   "execution_count": 36,
   "id": "02d47bf2",
   "metadata": {},
   "outputs": [
    {
     "name": "stdout",
     "output_type": "stream",
     "text": [
      "All compared columns are fully aligned; cleanup applied.\n"
     ]
    }
   ],
   "source": [
    "# Print mismatch report if any\n",
    "if mismatch_report:\n",
    "    print(\"\\nColumn Mismatches Found:\")\n",
    "    for k, stats in mismatch_report.items():\n",
    "        print(f\"{k}: {stats['count']} records do not match ({stats['percent']}% of total)\")\n",
    "else:\n",
    "    print(\"All compared columns are fully aligned; cleanup applied.\")"
   ]
  },
  {
   "cell_type": "code",
   "execution_count": null,
   "id": "b606d1af",
   "metadata": {},
   "outputs": [],
   "source": [
    "gdf_joined"
   ]
  },
  {
   "cell_type": "markdown",
   "id": "dd98b97d",
   "metadata": {},
   "source": [
    "# Step 2B : Sample Matching Analysis"
   ]
  },
  {
   "cell_type": "code",
   "execution_count": 37,
   "id": "cf3eee41",
   "metadata": {},
   "outputs": [],
   "source": [
    "# Save point\n",
    "gdf_joined.to_file(\"OUTPUT/gdf_joined_output.geojson\", driver=\"GeoJSON\")"
   ]
  },
  {
   "cell_type": "code",
   "execution_count": 38,
   "id": "71fcd120",
   "metadata": {},
   "outputs": [],
   "source": [
    "# From Save Point, re-load all geospatial files\n",
    "metro_boundary = gpd.read_file(\"../REF/Metro_MTA_Tax_Area.geojson\")\n",
    "metro_RRC = gpd.read_file(\"../REF/METRO_RailRoadCrossings.geojson\")\n",
    "metro_BB = gpd.read_file(\"../REF/METRO_TxDOT_Bridges.geojson\")\n",
    "\n",
    "metro_TC = gpd.read_file(\"../REF/Metro_Transit_Centers.geojson\")\n",
    "metro_PnR = gpd.read_file(\"../REF/Metro_Park_and_Rides.geojson\")\n",
    "metro_LRT = gpd.read_file(\"../REF/Metro_LRT_Stations.geojson\")\n",
    "\n",
    "metro_rs_gdf = gpd.read_file(\"OUTPUT/gdf_joined_output.geojson\")\n",
    "\n",
    "# Clearnin up Raw Data Import\n",
    "pnr_col2k = [\"OBJECTID\",\n",
    "             \"ADDRESS\",\n",
    "             \"ROUTES_SER\",\n",
    "             \"geometry\"\n",
    "            ]\n",
    "metro_PnR = metro_PnR[pnr_col2k]\n",
    "metro_TC = metro_TC[pnr_col2k]\n",
    "\n",
    "lrt_col2k = [\"OBJECTID\",\n",
    "             \"Stat_Name\",\n",
    "             \"Stat_Loc\",\n",
    "             \"LineColor\",\n",
    "             \"geometry\"\n",
    "            ]\n",
    "metro_LRT = metro_LRT[lrt_col2k]\n",
    "\n",
    "bb_col2k = [\"BRDG_ID\",\n",
    "            \"FEAT_INTSECTD\",\n",
    "            \"FACLTY_CARRD_BY_STRUC\",\n",
    "            \"YR_BLT\",\n",
    "            \"ADT\",\n",
    "            \"ADT_YR\",\n",
    "            \"ADT_TRK\",\n",
    "            \"LT_SDWALK_WIDTH\",\n",
    "            \"RT_SDWALK_WIDTH\",\n",
    "            \"FUT_ADT\",\n",
    "            \"FUT_ADT_YR\",\n",
    "            \"BRDG_DESC\",\n",
    "            \"geometry\"\n",
    "            ]\n",
    "metro_BB = metro_BB[bb_col2k]\n",
    "\n",
    "rrc_col2k = [\"CrossingID\",\n",
    "             \"Street\",\n",
    "             \"TtstnNam\",\n",
    "             \"TypeXing\",\n",
    "             \"Railroad\",\n",
    "             \"geometry\"\n",
    "             ]\n",
    "metro_RRC = metro_RRC[rrc_col2k]"
   ]
  },
  {
   "cell_type": "code",
   "execution_count": 39,
   "id": "f2eed27b",
   "metadata": {},
   "outputs": [],
   "source": [
    "def apply_overlay_analysis(parcel_gdf, features):\n",
    "    # Project all layers to a suitable linear CRS (Houston = EPSG:2278)\n",
    "    crs_proj = \"EPSG:2278\"\n",
    "    parcel_gdf = parcel_gdf.to_crs(crs_proj)\n",
    "    for key in features:\n",
    "        features[key] = features[key].to_crs(crs_proj)\n",
    "\n",
    "    # Distance to nearest transit access points\n",
    "    parcel_gdf[\"dist_to_tcenter\"] = parcel_gdf.geometry.apply(lambda x: features[\"tcenter\"].distance(x).min())\n",
    "    parcel_gdf[\"dist_to_parkride\"] = parcel_gdf.geometry.apply(lambda x: features[\"parkride\"].distance(x).min())\n",
    "    parcel_gdf[\"dist_to_lrt\"] = parcel_gdf.geometry.apply(lambda x: features[\"lrt\"].distance(x).min())\n",
    "\n",
    "    # Barrier analysis: 1-mile buffer (1609 meters)\n",
    "    buffer_1mile = parcel_gdf.geometry.buffer(1609)\n",
    "    parcel_gdf[\"barrier_bridges\"] = [features[\"bridges\"].intersects(b).sum() for b in buffer_1mile]\n",
    "    parcel_gdf[\"barrier_rxings\"] = [features[\"rrc\"].intersects(b).sum() for b in buffer_1mile]\n",
    "\n",
    "    # Accessibility analysis: ¼-mile buffer (402 meters)\n",
    "    buffer_quarter = parcel_gdf.geometry.buffer(402)\n",
    "    parcel_gdf[\"access_tcenter_qtrmi\"] = [features[\"tcenter\"].intersects(b).sum() for b in buffer_quarter]\n",
    "    parcel_gdf[\"access_parkride_qtrmi\"] = [features[\"parkride\"].intersects(b).sum() for b in buffer_quarter]\n",
    "    parcel_gdf[\"access_lrt_qtrmi\"] = [features[\"lrt\"].intersects(b).sum() for b in buffer_quarter]\n",
    "\n",
    "    return parcel_gdf.to_crs(\"EPSG:4326\")  # Restore to geographic coordinates for export\n"
   ]
  },
  {
   "cell_type": "code",
   "execution_count": 40,
   "id": "c7508210",
   "metadata": {},
   "outputs": [],
   "source": [
    "features_dict = {\n",
    "    \"tcenter\": metro_TC,\n",
    "    \"parkride\": metro_PnR,\n",
    "    \"lrt\": metro_LRT,\n",
    "    \"bridges\": metro_BB,\n",
    "    \"rrc\": metro_RRC\n",
    "}\n",
    "\n",
    "metro_rs_gdf_overlay = apply_overlay_analysis(metro_rs_gdf, features_dict)"
   ]
  },
  {
   "cell_type": "code",
   "execution_count": 41,
   "id": "a06666e4",
   "metadata": {},
   "outputs": [],
   "source": [
    "# Overlay Save Point result\n",
    "metro_rs_gdf_overlay.to_file(\"OUTPUT/metro_rs_overlay.geojson\", driver=\"GeoJSON\")"
   ]
  },
  {
   "cell_type": "code",
   "execution_count": null,
   "id": "a0326236",
   "metadata": {},
   "outputs": [],
   "source": [
    "metro_rs_gdf_overlay"
   ]
  }
 ],
 "metadata": {
  "kernelspec": {
   "display_name": "Python 3",
   "language": "python",
   "name": "python3"
  },
  "language_info": {
   "codemirror_mode": {
    "name": "ipython",
    "version": 3
   },
   "file_extension": ".py",
   "mimetype": "text/x-python",
   "name": "python",
   "nbconvert_exporter": "python",
   "pygments_lexer": "ipython3",
   "version": "3.11.9"
  }
 },
 "nbformat": 4,
 "nbformat_minor": 5
}
